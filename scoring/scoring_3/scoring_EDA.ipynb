{
 "cells": [
  {
   "cell_type": "markdown",
   "id": "8f405efe",
   "metadata": {
    "toc": true
   },
   "source": [
    "<h1>Table of Contents<span class=\"tocSkip\"></span></h1>\n",
    "<div class=\"toc\"><ul class=\"toc-item\"><li><span><a href=\"#Import\" data-toc-modified-id=\"Import-1\">Import</a></span></li><li><span><a href=\"#1.-Анализ-датасета\" data-toc-modified-id=\"1.-Анализ-датасета-2\">1. Анализ датасета</a></span><ul class=\"toc-item\"><li><span><a href=\"#1.1-Описание-признаков\" data-toc-modified-id=\"1.1-Описание-признаков-2.1\">1.1 Описание признаков</a></span></li><li><span><a href=\"#1.2-Считывание-датасета\" data-toc-modified-id=\"1.2-Считывание-датасета-2.2\">1.2 Считывание датасета</a></span></li><li><span><a href=\"#1.3-EDA\" data-toc-modified-id=\"1.3-EDA-2.3\">1.3 EDA</a></span></li><li><span><a href=\"#2.-Изменение-датасета\" data-toc-modified-id=\"2.-Изменение-датасета-2.4\">2. Изменение датасета</a></span></li></ul></li></ul></div>"
   ]
  },
  {
   "cell_type": "markdown",
   "id": "11008eb8",
   "metadata": {
    "heading_collapsed": true
   },
   "source": [
    "# Import"
   ]
  },
  {
   "cell_type": "code",
   "execution_count": 1,
   "id": "5ad6dcf7",
   "metadata": {
    "hidden": true
   },
   "outputs": [],
   "source": [
    "import pandas as pd, numpy as np, re, scipy.stats as stats\n",
    "import seaborn as sns, matplotlib.pyplot as plt, plotly.express as px\n",
    "from collections import Counter\n",
    "from tqdm import tqdm, tqdm_notebook\n",
    "\n",
    "\n",
    "from sklearn import decomposition\n",
    "from sklearn.model_selection import cross_val_predict, cross_val_score, cross_validate\n",
    "from sklearn.model_selection import train_test_split, GridSearchCV, StratifiedKFold\n",
    "from sklearn.impute import SimpleImputer\n",
    "from sklearn.preprocessing import LabelEncoder, MinMaxScaler, StandardScaler\n",
    "\n",
    "\n",
    "from sklearn.pipeline import Pipeline\n",
    "from sklearn.metrics import accuracy_score, classification_report, roc_auc_score\n",
    "from sklearn.metrics import precision_recall_fscore_support\n",
    "from sklearn.linear_model import LogisticRegression, LinearRegression\n",
    "from sklearn.ensemble import GradientBoostingClassifier, RandomForestClassifier\n",
    "from sklearn.naive_bayes import GaussianNB\n",
    "from lightgbm import LGBMClassifier\n",
    "from xgboost import XGBClassifier\n",
    "\n",
    "from sklearn.feature_selection import SelectKBest, chi2, f_classif, SelectPercentile\n",
    "from mlxtend.feature_selection import SequentialFeatureSelector\n",
    "\n",
    "from datetime import datetime\n",
    "import time\n",
    "\n",
    "import warnings\n",
    "warnings.filterwarnings('ignore')"
   ]
  },
  {
   "cell_type": "markdown",
   "id": "66484474",
   "metadata": {},
   "source": [
    "# 1. Анализ датасета"
   ]
  },
  {
   "cell_type": "markdown",
   "id": "7a7c7a12",
   "metadata": {
    "heading_collapsed": true
   },
   "source": [
    "## 1.1 Описание признаков"
   ]
  },
  {
   "cell_type": "markdown",
   "id": "52ab7c0e",
   "metadata": {
    "hidden": true
   },
   "source": [
    "TCS_CUSTOMER_ID\tИдентификатор клиента\tID\n",
    "\n",
    "BUREAU_CD\tКод бюро, из которого получен счет\tnumeric\n",
    "\n",
    "BKI_REQUEST_DATE\tДата, в которую был сделан запрос в бюро\tdate\n",
    "\n",
    "CURRENCY\tВалюта договора (ISO буквенный код валюты)\tstring\n",
    "\n",
    "RELATIONSHIP\tТип отношения к договору\tstring\n",
    "\t1 - Физическое лицо\t\n",
    "\t2 - Дополнительная карта/Авторизованный пользователь\t\n",
    "\t4 - Совместный \t\n",
    "\t5 - Поручитель\t\n",
    "\t9 - Юридическое лицо\t\n",
    "    \n",
    "OPEN_DATE\tДата открытия договора\tdate\n",
    "\n",
    "FINAL_PMT_DATE\tДата финального платежа (плановая)\tdate\n",
    "\n",
    "TYPE\tКод типа договора\tstring\n",
    "\t1 – Кредит на автомобиль\t\n",
    "\t4 – Лизинг. Срочные платежи за наем/пользование транспортным средством, предприятием или оборудованием и т.п.\t\n",
    "\t6 – Ипотека – ссудные счета, имеющие отношение к домам, квартирам и прочей недвижимости. Ссуда выплачивается циклично согласно договоренности до тех пор, пока она не будет полностью выплачена или возобновлена. \t\n",
    "\t7 – Кредитная карта \t\n",
    "\t9 – Потребительский кредит\t\n",
    "\t10 – Кредит на развитие бизнеса\t\n",
    "\t11 – Кредит на пополнение оборотных средств\t\n",
    "\t12 – Кредит на покупку оборудования \t\n",
    "\t13 – Кредит на строительство недвижимости\t\n",
    "\t14 – Кредит на покупку акций (например, маржинальное кредитование)\t\n",
    "\t99 – Другой\t\n",
    "    \n",
    "PMT_STRING_84M\tДисциплина (своевременность) платежей. Строка составляется из кодов состояний счета на моменты передачи банком данных по счету в бюро, первый символ - состояние на дату PMT_STRING_START, далее последовательно в порядке убывания дат.\tstring\n",
    "\t0 – Новый, оценка невозможна\t\n",
    "\tX – Нет информации\t\n",
    "\t1 – Оплата без просрочек\t\n",
    "\tA – Просрочка от 1 до 29 дней\t\n",
    "\t2 – Просрочка от 30 до 59 дней\t\n",
    "\t3 – Просрочка от 60 до 89 дней\t\n",
    "\t4 – Просрочка от 90 до 119 дней\t\n",
    "\t5 – Просрочка более 120 дней\t\n",
    "\t7 – Регулярные консолидированные платежи\t\n",
    "\t8 – Погашение по кредиту с использованием залога\t\n",
    "\t9 – Безнадёжный долг/ передано на взыскание/ пропущенный платеж\t\n",
    "    \n",
    "STATUS\tСтатус договора\tstring\n",
    "\t00 – Активный\t\n",
    "\t12 – Оплачен за счет обеспечения\t\n",
    "\t13 – Счет закрыт\t\n",
    "\t14 – Передан на обслуживание в другой банк\t\n",
    "\t21 – Спор\t\n",
    "\t52 – Просрочен\t\n",
    "\t61 – Проблемы с возвратом\t\n",
    "    \n",
    "OUTSTANDING\tОставшаяся непогашенная задолженность. Сумма в рублях по курсу ЦБ РФ\tnumeric\n",
    "\n",
    "NEXT_PMT\tРазмер следующего платежа. Сумма в рублях по курсу ЦБ РФ\tnumeric\n",
    "\n",
    "INF_CONFIRM_DATE\tДата подтверждения информации по счету\tdate\n",
    "\n",
    "FACT_CLOSE_DATE\tДата закрытия счета (фактическая)\tdate\n",
    "\n",
    "TTL_DELQ_5\tКоличество просрочек до 5 дней\tnumeric\n",
    "\n",
    "TTL_DELQ_5_29\tКоличество просрочек от 5 до 29 дней\tnumeric\n",
    "\n",
    "TTL_DELQ_30_59\tКоличество просрочек от 30 до 59 дней\tnumeric\n",
    "\n",
    "TTL_DELQ_60_89\tКоличество просрочек от 60 до 89 дней\tnumeric\n",
    "\n",
    "TTL_DELQ_30\tКоличество просрочек до 30 дней\tnumeric\n",
    "\n",
    "TTL_DELQ_90_PLUS\tКоличество просрочек 90+ дней\tnumeric\n",
    "\n",
    "PMT_FREQ\tКод частоты платежей\tstring\n",
    "\t1 – Еженедельно\t\n",
    "\t2 – Раз в две недели\t\n",
    "\t3 – Ежемесячно\t\n",
    "\tA - Раз в 2 месяца\t\n",
    "\t4 – Поквартально\t\n",
    "\tB - Раз в 4 месяца\t\n",
    "\t5 – Раз в полгода\t\n",
    "\t6 -  Ежегодно\t\n",
    "\t7 – Другое\t\n",
    "    \n",
    "CREDIT_LIMIT\tКредитный лимит. Сумма в рублях по курсу ЦБ РФ\tnumeric\n",
    "\n",
    "DELQ_BALANCE\tТекущая просроченная задолженность. Сумма в рублях по курсу ЦБ РФ\tnumeric\n",
    "\n",
    "MAX_DELQ_BALANCE\tМаксимальный объем просроченной задолженности. Сумма в рублях по курсу ЦБ РФ\tnumeric\n",
    "\n",
    "CURRENT_DELQ\tТекущее количество дней просрочки\tnumeric\n",
    "\n",
    "PMT_STRING_START\tДата начала строки PMT_STRING_84M\tdate\n",
    "\n",
    "INTEREST_RATE\tПроцентная ставка по кредиту\tnumeric\n",
    "\n",
    "CURR_BALANCE_AMT\tОбщая выплаченная сумма, включая сумму основного долга, проценты, пени и штрафы. Сумма в рублях по курсу ЦБ РФ\tnumeric"
   ]
  },
  {
   "cell_type": "markdown",
   "id": "642233af",
   "metadata": {},
   "source": [
    "## 1.2 Считывание датасета"
   ]
  },
  {
   "cell_type": "code",
   "execution_count": 52,
   "id": "f1dda458",
   "metadata": {
    "code_folding": []
   },
   "outputs": [],
   "source": [
    "# функция для преобразования дат (int -> datetime)\n",
    "def get_time(time):\n",
    "    if type(int(str(time)))==int:\n",
    "        seconds = (int(time) - 25569) * 86400\n",
    "        temp = datetime.utcfromtimestamp(seconds)\n",
    "        return temp\n",
    "        \n",
    "    elif type(time.astype('int')) == np.int32 or numpy.int64:\n",
    "        seconds = (int(time) - 25569) * 86400\n",
    "        temp = datetime.utcfromtimestamp(seconds)\n",
    "        return temp\n",
    "    \n",
    "    else:\n",
    "        return np.nan\n",
    "\n",
    "vget_time = np.vectorize(get_time)\n",
    "\n",
    "# функция для поиска количества повторений\n",
    "def count_freq(df: pd.DataFrame, type_to_count: 'str') -> pd.DataFrame:\n",
    "\n",
    "    freq_df = pd.DataFrame(\n",
    "        columns=[f'{type_to_count.upper()}_freq_type_{ttype}' for ttype in set(df[type_to_count])],\n",
    "        index=pd.Index(set(df['tcs_customer_id']))\n",
    "    ).fillna(0)\n",
    "\n",
    "    temp_df = df[['tcs_customer_id', type_to_count]]\n",
    "    for _, tcs_id in enumerate(tqdm_notebook(set(temp_df['tcs_customer_id']))):\n",
    "\n",
    "        count_val = temp_df[temp_df['tcs_customer_id'] == tcs_id][type_to_count]\n",
    "        dict_val = dict(Counter(count_val))\n",
    "\n",
    "        for key in dict_val.keys():\n",
    "            freq_df.loc[tcs_id, f'{type_to_count.upper()}_freq_type_{key}'] = dict_val.get(key)\n",
    "                               \n",
    "    return freq_df"
   ]
  },
  {
   "cell_type": "code",
   "execution_count": 57,
   "id": "557e98c8",
   "metadata": {
    "code_folding": []
   },
   "outputs": [
    {
     "name": "stdout",
     "output_type": "stream",
     "text": [
      "Размер датасета: (280942, 28)\n",
      "Количество заемщиков: 50000\n"
     ]
    }
   ],
   "source": [
    "# читаем датасет\n",
    "df_read = pd.read_csv('new/SAMPLE_ACCOUNTS.csv', sep=';', decimal=',',\n",
    "                dtype={'pmt_freq': str, 'fact_close_date':str})\n",
    "\n",
    "\n",
    "id_accounts = pd.read_csv('SAMPLE_CUSTOMERS.csv', sep=';')\n",
    "id_accounts.rename(columns={'bad':'default'}, inplace=True)\n",
    "\n",
    "print('Размер датасета:', df_read.shape)\n",
    "print('Количество заемщиков:', id_accounts.shape[0])"
   ]
  },
  {
   "cell_type": "code",
   "execution_count": 58,
   "id": "597b825e",
   "metadata": {
    "scrolled": false
   },
   "outputs": [
    {
     "name": "stdout",
     "output_type": "stream",
     "text": [
      "(193338, 29)\n"
     ]
    },
    {
     "data": {
      "text/html": [
       "<div>\n",
       "<style scoped>\n",
       "    .dataframe tbody tr th:only-of-type {\n",
       "        vertical-align: middle;\n",
       "    }\n",
       "\n",
       "    .dataframe tbody tr th {\n",
       "        vertical-align: top;\n",
       "    }\n",
       "\n",
       "    .dataframe thead th {\n",
       "        text-align: right;\n",
       "    }\n",
       "</style>\n",
       "<table border=\"1\" class=\"dataframe\">\n",
       "  <thead>\n",
       "    <tr style=\"text-align: right;\">\n",
       "      <th></th>\n",
       "      <th>tcs_customer_id</th>\n",
       "      <th>bureau_cd</th>\n",
       "      <th>bki_request_date</th>\n",
       "      <th>inf_confirm_date</th>\n",
       "      <th>type</th>\n",
       "      <th>status</th>\n",
       "      <th>open_date</th>\n",
       "      <th>final_pmt_date</th>\n",
       "      <th>fact_close_date</th>\n",
       "      <th>credit_limit</th>\n",
       "      <th>...</th>\n",
       "      <th>ttl_delq_60_89</th>\n",
       "      <th>ttl_delq_90_plus</th>\n",
       "      <th>pmt_string_start</th>\n",
       "      <th>pmt_string_84m</th>\n",
       "      <th>delq_balance</th>\n",
       "      <th>max_delq_balance</th>\n",
       "      <th>interest_rate</th>\n",
       "      <th>pmt_freq</th>\n",
       "      <th>relationship</th>\n",
       "      <th>default</th>\n",
       "    </tr>\n",
       "  </thead>\n",
       "  <tbody>\n",
       "    <tr>\n",
       "      <th>0</th>\n",
       "      <td>2</td>\n",
       "      <td>1</td>\n",
       "      <td>40665</td>\n",
       "      <td>40618</td>\n",
       "      <td>9</td>\n",
       "      <td>13</td>\n",
       "      <td>40472</td>\n",
       "      <td>40618.0</td>\n",
       "      <td>40618</td>\n",
       "      <td>7551</td>\n",
       "      <td>...</td>\n",
       "      <td>0</td>\n",
       "      <td>0</td>\n",
       "      <td>40617.0</td>\n",
       "      <td>11111</td>\n",
       "      <td>0.0</td>\n",
       "      <td>0.0</td>\n",
       "      <td>0</td>\n",
       "      <td>3</td>\n",
       "      <td>1</td>\n",
       "      <td>0</td>\n",
       "    </tr>\n",
       "    <tr>\n",
       "      <th>1</th>\n",
       "      <td>2</td>\n",
       "      <td>3</td>\n",
       "      <td>40665</td>\n",
       "      <td>40661</td>\n",
       "      <td>9</td>\n",
       "      <td>0</td>\n",
       "      <td>40652</td>\n",
       "      <td>40958.0</td>\n",
       "      <td>NaN</td>\n",
       "      <td>21186</td>\n",
       "      <td>...</td>\n",
       "      <td>0</td>\n",
       "      <td>0</td>\n",
       "      <td>40687.0</td>\n",
       "      <td>X1</td>\n",
       "      <td>0.0</td>\n",
       "      <td>0.0</td>\n",
       "      <td>0</td>\n",
       "      <td>3</td>\n",
       "      <td>1</td>\n",
       "      <td>0</td>\n",
       "    </tr>\n",
       "    <tr>\n",
       "      <th>2</th>\n",
       "      <td>2</td>\n",
       "      <td>3</td>\n",
       "      <td>40665</td>\n",
       "      <td>40661</td>\n",
       "      <td>9</td>\n",
       "      <td>13</td>\n",
       "      <td>40472</td>\n",
       "      <td>40618.0</td>\n",
       "      <td>40602</td>\n",
       "      <td>7551</td>\n",
       "      <td>...</td>\n",
       "      <td>0</td>\n",
       "      <td>0</td>\n",
       "      <td>40602.0</td>\n",
       "      <td>11111</td>\n",
       "      <td>0.0</td>\n",
       "      <td>0.0</td>\n",
       "      <td>0</td>\n",
       "      <td>3</td>\n",
       "      <td>1</td>\n",
       "      <td>0</td>\n",
       "    </tr>\n",
       "    <tr>\n",
       "      <th>3</th>\n",
       "      <td>3</td>\n",
       "      <td>2</td>\n",
       "      <td>40637</td>\n",
       "      <td>40609</td>\n",
       "      <td>7</td>\n",
       "      <td>0</td>\n",
       "      <td>40604</td>\n",
       "      <td>NaN</td>\n",
       "      <td>NaN</td>\n",
       "      <td>20000</td>\n",
       "      <td>...</td>\n",
       "      <td>0</td>\n",
       "      <td>0</td>\n",
       "      <td>40605.0</td>\n",
       "      <td>X1</td>\n",
       "      <td>0.0</td>\n",
       "      <td>0.0</td>\n",
       "      <td>0</td>\n",
       "      <td>7</td>\n",
       "      <td>1</td>\n",
       "      <td>1</td>\n",
       "    </tr>\n",
       "    <tr>\n",
       "      <th>4</th>\n",
       "      <td>3</td>\n",
       "      <td>1</td>\n",
       "      <td>40637</td>\n",
       "      <td>40069</td>\n",
       "      <td>9</td>\n",
       "      <td>13</td>\n",
       "      <td>39647</td>\n",
       "      <td>40068.0</td>\n",
       "      <td>40068</td>\n",
       "      <td>22694</td>\n",
       "      <td>...</td>\n",
       "      <td>0</td>\n",
       "      <td>0</td>\n",
       "      <td>40069.0</td>\n",
       "      <td>1,11111E+13</td>\n",
       "      <td>0.0</td>\n",
       "      <td>0.0</td>\n",
       "      <td>0</td>\n",
       "      <td>3</td>\n",
       "      <td>1</td>\n",
       "      <td>1</td>\n",
       "    </tr>\n",
       "  </tbody>\n",
       "</table>\n",
       "<p>5 rows × 29 columns</p>\n",
       "</div>"
      ],
      "text/plain": [
       "   tcs_customer_id  bureau_cd  bki_request_date  inf_confirm_date  type  \\\n",
       "0                2          1             40665             40618     9   \n",
       "1                2          3             40665             40661     9   \n",
       "2                2          3             40665             40661     9   \n",
       "3                3          2             40637             40609     7   \n",
       "4                3          1             40637             40069     9   \n",
       "\n",
       "   status  open_date  final_pmt_date fact_close_date  credit_limit  ...  \\\n",
       "0      13      40472         40618.0           40618          7551  ...   \n",
       "1       0      40652         40958.0             NaN         21186  ...   \n",
       "2      13      40472         40618.0           40602          7551  ...   \n",
       "3       0      40604             NaN             NaN         20000  ...   \n",
       "4      13      39647         40068.0           40068         22694  ...   \n",
       "\n",
       "  ttl_delq_60_89  ttl_delq_90_plus  pmt_string_start  pmt_string_84m  \\\n",
       "0              0                 0           40617.0           11111   \n",
       "1              0                 0           40687.0              X1   \n",
       "2              0                 0           40602.0           11111   \n",
       "3              0                 0           40605.0              X1   \n",
       "4              0                 0           40069.0     1,11111E+13   \n",
       "\n",
       "   delq_balance  max_delq_balance  interest_rate  pmt_freq  relationship  \\\n",
       "0           0.0               0.0              0         3             1   \n",
       "1           0.0               0.0              0         3             1   \n",
       "2           0.0               0.0              0         3             1   \n",
       "3           0.0               0.0              0         7             1   \n",
       "4           0.0               0.0              0         3             1   \n",
       "\n",
       "   default  \n",
       "0        0  \n",
       "1        0  \n",
       "2        0  \n",
       "3        1  \n",
       "4        1  \n",
       "\n",
       "[5 rows x 29 columns]"
      ]
     },
     "execution_count": 58,
     "metadata": {},
     "output_type": "execute_result"
    }
   ],
   "source": [
    "# у нас есть 2 таблицы - сам датасет и указание на train/test.\n",
    "# объединим их в одну таблицу и удалим данные с пометкой test (потому что отсутствует таргет)\n",
    "\n",
    "df = df_read.merge(id_accounts, how='left', on='tcs_customer_id')\n",
    "df = df[df.sample_type == 'train'].drop('sample_type', axis=1).reset_index(drop=True)\n",
    "df['default'] = df['default'].astype(int)\n",
    "\n",
    "print(df.shape)\n",
    "df.head()"
   ]
  },
  {
   "cell_type": "markdown",
   "id": "254a4640",
   "metadata": {
    "heading_collapsed": true
   },
   "source": [
    "## 1.3 EDA"
   ]
  },
  {
   "cell_type": "code",
   "execution_count": 4,
   "id": "5fae2f3e",
   "metadata": {
    "hidden": true
   },
   "outputs": [
    {
     "data": {
      "text/plain": [
       "Index(['tcs_customer_id', 'bureau_cd', 'bki_request_date', 'inf_confirm_date',\n",
       "       'type', 'status', 'open_date', 'final_pmt_date', 'fact_close_date',\n",
       "       'credit_limit', 'currency', 'outstanding', 'next_pmt',\n",
       "       'curr_balance_amt', 'current_delq', 'ttl_delq_5', 'ttl_delq_5_29',\n",
       "       'ttl_delq_30', 'ttl_delq_30_59', 'ttl_delq_60_89', 'ttl_delq_90_plus',\n",
       "       'pmt_string_start', 'pmt_string_84m', 'delq_balance',\n",
       "       'max_delq_balance', 'interest_rate', 'pmt_freq', 'relationship',\n",
       "       'default'],\n",
       "      dtype='object')"
      ]
     },
     "execution_count": 4,
     "metadata": {},
     "output_type": "execute_result"
    }
   ],
   "source": [
    "df.columns # полученные колонки"
   ]
  },
  {
   "cell_type": "code",
   "execution_count": 5,
   "id": "c230569e",
   "metadata": {
    "hidden": true
   },
   "outputs": [
    {
     "data": {
      "text/plain": [
       "tcs_customer_id       int64\n",
       "bureau_cd             int64\n",
       "bki_request_date      int64\n",
       "inf_confirm_date      int64\n",
       "type                  int64\n",
       "status                int64\n",
       "open_date             int64\n",
       "final_pmt_date      float64\n",
       "fact_close_date      object\n",
       "credit_limit          int64\n",
       "currency             object\n",
       "outstanding         float64\n",
       "next_pmt            float64\n",
       "curr_balance_amt    float64\n",
       "current_delq        float64\n",
       "ttl_delq_5            int64\n",
       "ttl_delq_5_29         int64\n",
       "ttl_delq_30           int64\n",
       "ttl_delq_30_59        int64\n",
       "ttl_delq_60_89        int64\n",
       "ttl_delq_90_plus      int64\n",
       "pmt_string_start    float64\n",
       "pmt_string_84m       object\n",
       "delq_balance        float64\n",
       "max_delq_balance    float64\n",
       "interest_rate         int64\n",
       "pmt_freq             object\n",
       "relationship          int64\n",
       "default               int32\n",
       "dtype: object"
      ]
     },
     "execution_count": 5,
     "metadata": {},
     "output_type": "execute_result"
    }
   ],
   "source": [
    "df.dtypes # типы колонок"
   ]
  },
  {
   "cell_type": "code",
   "execution_count": 6,
   "id": "ebbd1250",
   "metadata": {
    "hidden": true
   },
   "outputs": [
    {
     "data": {
      "text/html": [
       "<div>\n",
       "<style scoped>\n",
       "    .dataframe tbody tr th:only-of-type {\n",
       "        vertical-align: middle;\n",
       "    }\n",
       "\n",
       "    .dataframe tbody tr th {\n",
       "        vertical-align: top;\n",
       "    }\n",
       "\n",
       "    .dataframe thead th {\n",
       "        text-align: right;\n",
       "    }\n",
       "</style>\n",
       "<table border=\"1\" class=\"dataframe\">\n",
       "  <thead>\n",
       "    <tr style=\"text-align: right;\">\n",
       "      <th></th>\n",
       "      <th>Number of NaN</th>\n",
       "      <th>% of NaN</th>\n",
       "    </tr>\n",
       "  </thead>\n",
       "  <tbody>\n",
       "    <tr>\n",
       "      <th>curr_balance_amt</th>\n",
       "      <td>122814</td>\n",
       "      <td>0.635229</td>\n",
       "    </tr>\n",
       "    <tr>\n",
       "      <th>next_pmt</th>\n",
       "      <td>105528</td>\n",
       "      <td>0.545821</td>\n",
       "    </tr>\n",
       "    <tr>\n",
       "      <th>fact_close_date</th>\n",
       "      <td>98574</td>\n",
       "      <td>0.509853</td>\n",
       "    </tr>\n",
       "    <tr>\n",
       "      <th>outstanding</th>\n",
       "      <td>37368</td>\n",
       "      <td>0.193278</td>\n",
       "    </tr>\n",
       "    <tr>\n",
       "      <th>current_delq</th>\n",
       "      <td>36681</td>\n",
       "      <td>0.189725</td>\n",
       "    </tr>\n",
       "    <tr>\n",
       "      <th>final_pmt_date</th>\n",
       "      <td>12610</td>\n",
       "      <td>0.065223</td>\n",
       "    </tr>\n",
       "    <tr>\n",
       "      <th>pmt_string_start</th>\n",
       "      <td>11015</td>\n",
       "      <td>0.056973</td>\n",
       "    </tr>\n",
       "    <tr>\n",
       "      <th>pmt_string_84m</th>\n",
       "      <td>6255</td>\n",
       "      <td>0.032353</td>\n",
       "    </tr>\n",
       "    <tr>\n",
       "      <th>pmt_freq</th>\n",
       "      <td>145</td>\n",
       "      <td>0.000750</td>\n",
       "    </tr>\n",
       "    <tr>\n",
       "      <th>max_delq_balance</th>\n",
       "      <td>19</td>\n",
       "      <td>0.000098</td>\n",
       "    </tr>\n",
       "    <tr>\n",
       "      <th>delq_balance</th>\n",
       "      <td>19</td>\n",
       "      <td>0.000098</td>\n",
       "    </tr>\n",
       "    <tr>\n",
       "      <th>ttl_delq_30</th>\n",
       "      <td>0</td>\n",
       "      <td>0.000000</td>\n",
       "    </tr>\n",
       "  </tbody>\n",
       "</table>\n",
       "</div>"
      ],
      "text/plain": [
       "                  Number of NaN  % of NaN\n",
       "curr_balance_amt         122814  0.635229\n",
       "next_pmt                 105528  0.545821\n",
       "fact_close_date           98574  0.509853\n",
       "outstanding               37368  0.193278\n",
       "current_delq              36681  0.189725\n",
       "final_pmt_date            12610  0.065223\n",
       "pmt_string_start          11015  0.056973\n",
       "pmt_string_84m             6255  0.032353\n",
       "pmt_freq                    145  0.000750\n",
       "max_delq_balance             19  0.000098\n",
       "delq_balance                 19  0.000098\n",
       "ttl_delq_30                   0  0.000000"
      ]
     },
     "execution_count": 6,
     "metadata": {},
     "output_type": "execute_result"
    }
   ],
   "source": [
    "null_count = pd.DataFrame(data = zip(df.isna().sum(), df.isna().sum().values/len(df)), \n",
    "                          columns=['Number of NaN', '% of NaN'], \n",
    "                          index=pd.Index(df.columns)) \\\n",
    "                          .sort_values(by='% of NaN', ascending=False)\n",
    "\n",
    "\n",
    "# Таблица с количеством пропусков и % пропусков от числа строк\n",
    "null_count.head(12)"
   ]
  },
  {
   "cell_type": "code",
   "execution_count": 7,
   "id": "dc32b3e4",
   "metadata": {
    "hidden": true
   },
   "outputs": [
    {
     "name": "stdout",
     "output_type": "stream",
     "text": [
      "Размер датасета после удаления стобцов и пустых значений:  (193174, 21)\n"
     ]
    }
   ],
   "source": [
    "# уберем колонки с пропуском более 18%\n",
    "df.drop(null_count.index[:5], axis=1, inplace=True)\n",
    "\n",
    "# удалим пустые значения, где их мало\n",
    "df.dropna(subset=['pmt_freq', 'max_delq_balance', 'delq_balance'], axis=0, inplace=True)\n",
    "\n",
    "# также удалим некоторые даты и признак, который дублируется\n",
    "df.drop(['final_pmt_date', 'pmt_string_start', 'pmt_string_84m'], axis=1, inplace=True)\n",
    "\n",
    "print('Размер датасета после удаления стобцов и пустых значений: ', df.shape)"
   ]
  },
  {
   "cell_type": "code",
   "execution_count": 8,
   "id": "761fe255",
   "metadata": {
    "hidden": true
   },
   "outputs": [
    {
     "data": {
      "text/html": [
       "<div>\n",
       "<style scoped>\n",
       "    .dataframe tbody tr th:only-of-type {\n",
       "        vertical-align: middle;\n",
       "    }\n",
       "\n",
       "    .dataframe tbody tr th {\n",
       "        vertical-align: top;\n",
       "    }\n",
       "\n",
       "    .dataframe thead th {\n",
       "        text-align: right;\n",
       "    }\n",
       "</style>\n",
       "<table border=\"1\" class=\"dataframe\">\n",
       "  <thead>\n",
       "    <tr style=\"text-align: right;\">\n",
       "      <th></th>\n",
       "      <th>tcs_customer_id</th>\n",
       "      <th>bureau_cd</th>\n",
       "      <th>bki_request_date</th>\n",
       "      <th>inf_confirm_date</th>\n",
       "      <th>type</th>\n",
       "      <th>status</th>\n",
       "      <th>open_date</th>\n",
       "      <th>credit_limit</th>\n",
       "      <th>ttl_delq_5</th>\n",
       "      <th>ttl_delq_5_29</th>\n",
       "      <th>ttl_delq_30</th>\n",
       "      <th>ttl_delq_30_59</th>\n",
       "      <th>ttl_delq_60_89</th>\n",
       "      <th>ttl_delq_90_plus</th>\n",
       "      <th>interest_rate</th>\n",
       "      <th>relationship</th>\n",
       "    </tr>\n",
       "  </thead>\n",
       "  <tbody>\n",
       "    <tr>\n",
       "      <th>0</th>\n",
       "      <td>2</td>\n",
       "      <td>1</td>\n",
       "      <td>40665</td>\n",
       "      <td>40618</td>\n",
       "      <td>9</td>\n",
       "      <td>13</td>\n",
       "      <td>40472</td>\n",
       "      <td>7551</td>\n",
       "      <td>0</td>\n",
       "      <td>0</td>\n",
       "      <td>0</td>\n",
       "      <td>0</td>\n",
       "      <td>0</td>\n",
       "      <td>0</td>\n",
       "      <td>0</td>\n",
       "      <td>1</td>\n",
       "    </tr>\n",
       "    <tr>\n",
       "      <th>1</th>\n",
       "      <td>2</td>\n",
       "      <td>3</td>\n",
       "      <td>40665</td>\n",
       "      <td>40661</td>\n",
       "      <td>9</td>\n",
       "      <td>0</td>\n",
       "      <td>40652</td>\n",
       "      <td>21186</td>\n",
       "      <td>0</td>\n",
       "      <td>0</td>\n",
       "      <td>0</td>\n",
       "      <td>0</td>\n",
       "      <td>0</td>\n",
       "      <td>0</td>\n",
       "      <td>0</td>\n",
       "      <td>1</td>\n",
       "    </tr>\n",
       "    <tr>\n",
       "      <th>2</th>\n",
       "      <td>2</td>\n",
       "      <td>3</td>\n",
       "      <td>40665</td>\n",
       "      <td>40661</td>\n",
       "      <td>9</td>\n",
       "      <td>13</td>\n",
       "      <td>40472</td>\n",
       "      <td>7551</td>\n",
       "      <td>0</td>\n",
       "      <td>0</td>\n",
       "      <td>0</td>\n",
       "      <td>0</td>\n",
       "      <td>0</td>\n",
       "      <td>0</td>\n",
       "      <td>0</td>\n",
       "      <td>1</td>\n",
       "    </tr>\n",
       "  </tbody>\n",
       "</table>\n",
       "</div>"
      ],
      "text/plain": [
       "   tcs_customer_id  bureau_cd  bki_request_date  inf_confirm_date  type  \\\n",
       "0                2          1             40665             40618     9   \n",
       "1                2          3             40665             40661     9   \n",
       "2                2          3             40665             40661     9   \n",
       "\n",
       "   status  open_date  credit_limit  ttl_delq_5  ttl_delq_5_29  ttl_delq_30  \\\n",
       "0      13      40472          7551           0              0            0   \n",
       "1       0      40652         21186           0              0            0   \n",
       "2      13      40472          7551           0              0            0   \n",
       "\n",
       "   ttl_delq_30_59  ttl_delq_60_89  ttl_delq_90_plus  interest_rate  \\\n",
       "0               0               0                 0              0   \n",
       "1               0               0                 0              0   \n",
       "2               0               0                 0              0   \n",
       "\n",
       "   relationship  \n",
       "0             1  \n",
       "1             1  \n",
       "2             1  "
      ]
     },
     "execution_count": 8,
     "metadata": {},
     "output_type": "execute_result"
    }
   ],
   "source": [
    "df.select_dtypes('int64').head(3) # числовые колонки"
   ]
  },
  {
   "cell_type": "code",
   "execution_count": 9,
   "id": "d0303c1c",
   "metadata": {
    "hidden": true
   },
   "outputs": [
    {
     "data": {
      "text/html": [
       "<div>\n",
       "<style scoped>\n",
       "    .dataframe tbody tr th:only-of-type {\n",
       "        vertical-align: middle;\n",
       "    }\n",
       "\n",
       "    .dataframe tbody tr th {\n",
       "        vertical-align: top;\n",
       "    }\n",
       "\n",
       "    .dataframe thead th {\n",
       "        text-align: right;\n",
       "    }\n",
       "</style>\n",
       "<table border=\"1\" class=\"dataframe\">\n",
       "  <thead>\n",
       "    <tr style=\"text-align: right;\">\n",
       "      <th></th>\n",
       "      <th>currency</th>\n",
       "      <th>pmt_freq</th>\n",
       "    </tr>\n",
       "  </thead>\n",
       "  <tbody>\n",
       "    <tr>\n",
       "      <th>0</th>\n",
       "      <td>RUB</td>\n",
       "      <td>3</td>\n",
       "    </tr>\n",
       "    <tr>\n",
       "      <th>1</th>\n",
       "      <td>RUB</td>\n",
       "      <td>3</td>\n",
       "    </tr>\n",
       "  </tbody>\n",
       "</table>\n",
       "</div>"
      ],
      "text/plain": [
       "  currency pmt_freq\n",
       "0      RUB        3\n",
       "1      RUB        3"
      ]
     },
     "execution_count": 9,
     "metadata": {},
     "output_type": "execute_result"
    }
   ],
   "source": [
    "df.select_dtypes('object').head(2) # колонки с категориальными признаками"
   ]
  },
  {
   "cell_type": "code",
   "execution_count": 10,
   "id": "6291fc2a",
   "metadata": {
    "hidden": true,
    "scrolled": true
   },
   "outputs": [
    {
     "data": {
      "text/html": [
       "<div>\n",
       "<style scoped>\n",
       "    .dataframe tbody tr th:only-of-type {\n",
       "        vertical-align: middle;\n",
       "    }\n",
       "\n",
       "    .dataframe tbody tr th {\n",
       "        vertical-align: top;\n",
       "    }\n",
       "\n",
       "    .dataframe thead th {\n",
       "        text-align: right;\n",
       "    }\n",
       "</style>\n",
       "<table border=\"1\" class=\"dataframe\">\n",
       "  <thead>\n",
       "    <tr style=\"text-align: right;\">\n",
       "      <th></th>\n",
       "      <th>bki_request_date</th>\n",
       "      <th>inf_confirm_date</th>\n",
       "      <th>open_date</th>\n",
       "    </tr>\n",
       "  </thead>\n",
       "  <tbody>\n",
       "    <tr>\n",
       "      <th>0</th>\n",
       "      <td>40665</td>\n",
       "      <td>40618</td>\n",
       "      <td>40472</td>\n",
       "    </tr>\n",
       "    <tr>\n",
       "      <th>1</th>\n",
       "      <td>40665</td>\n",
       "      <td>40661</td>\n",
       "      <td>40652</td>\n",
       "    </tr>\n",
       "  </tbody>\n",
       "</table>\n",
       "</div>"
      ],
      "text/plain": [
       "   bki_request_date  inf_confirm_date  open_date\n",
       "0             40665             40618      40472\n",
       "1             40665             40661      40652"
      ]
     },
     "execution_count": 10,
     "metadata": {},
     "output_type": "execute_result"
    }
   ],
   "source": [
    "df[['bki_request_date', 'inf_confirm_date', 'open_date']].head(2)  # колонки, которые должны быть в формате дат"
   ]
  },
  {
   "cell_type": "code",
   "execution_count": 11,
   "id": "dba95e48",
   "metadata": {
    "hidden": true
   },
   "outputs": [
    {
     "name": "stdout",
     "output_type": "stream",
     "text": [
      "columns count of int columns -  17\n",
      "columns count of object columns -  2\n",
      "columns count of datetime columns -  3\n"
     ]
    }
   ],
   "source": [
    "print('columns count of int columns - ', df.select_dtypes('int').shape[1])\n",
    "print('columns count of object columns - ', df.select_dtypes('object').shape[1])\n",
    "print('columns count of datetime columns - ', df[['bki_request_date', 'inf_confirm_date', \n",
    "                                                  'open_date']].shape[1])"
   ]
  },
  {
   "cell_type": "code",
   "execution_count": 12,
   "id": "985eb793",
   "metadata": {
    "hidden": true
   },
   "outputs": [
    {
     "data": {
      "text/plain": [
       "Index(['tcs_customer_id', 'bureau_cd', 'bki_request_date', 'inf_confirm_date',\n",
       "       'type', 'status', 'open_date', 'credit_limit', 'currency', 'ttl_delq_5',\n",
       "       'ttl_delq_5_29', 'ttl_delq_30', 'ttl_delq_30_59', 'ttl_delq_60_89',\n",
       "       'ttl_delq_90_plus', 'delq_balance', 'max_delq_balance', 'interest_rate',\n",
       "       'pmt_freq', 'relationship', 'default'],\n",
       "      dtype='object')"
      ]
     },
     "execution_count": 12,
     "metadata": {},
     "output_type": "execute_result"
    }
   ],
   "source": [
    "df.columns"
   ]
  },
  {
   "cell_type": "code",
   "execution_count": 13,
   "id": "477ffe71",
   "metadata": {
    "hidden": true
   },
   "outputs": [
    {
     "data": {
      "image/png": "[encoded data removed]",
      "text/plain": [
       "<Figure size 504x432 with 1 Axes>"
      ]
     },
     "metadata": {
      "needs_background": "light"
     },
     "output_type": "display_data"
    },
    {
     "data": {
      "text/plain": [
       "0    173948\n",
       "1     19226\n",
       "Name: default, dtype: int64"
      ]
     },
     "execution_count": 13,
     "metadata": {},
     "output_type": "execute_result"
    }
   ],
   "source": [
    "# распределение таргета\n",
    "\n",
    "plt.figure(figsize=(7, 6))\n",
    "sns.countplot(x='default', data=df)\n",
    "plt.xticks(rotation=90)\n",
    "plt.show()\n",
    "\n",
    "df['default'].value_counts()"
   ]
  },
  {
   "cell_type": "code",
   "execution_count": 14,
   "id": "621d13bb",
   "metadata": {
    "hidden": true
   },
   "outputs": [
    {
     "data": {
      "image/png": "[encoded data removed]",
      "text/plain": [
       "<Figure size 504x432 with 1 Axes>"
      ]
     },
     "metadata": {
      "needs_background": "light"
     },
     "output_type": "display_data"
    },
    {
     "data": {
      "text/plain": [
       "default\n",
       "0    173948\n",
       "1     19226\n",
       "Name: bureau_cd, dtype: int64"
      ]
     },
     "execution_count": 14,
     "metadata": {},
     "output_type": "execute_result"
    }
   ],
   "source": [
    "plt.figure(figsize=(7, 6))\n",
    "sns.countplot(x='bureau_cd', data=df, hue='default')\n",
    "plt.xticks(rotation=90)\n",
    "plt.show()\n",
    "\n",
    "# соотношение бюро и заемщика\n",
    "# в бюро 2 меньше\n",
    "df.groupby('default')['bureau_cd'].count()"
   ]
  },
  {
   "cell_type": "code",
   "execution_count": 15,
   "id": "7777c717",
   "metadata": {
    "hidden": true
   },
   "outputs": [
    {
     "data": {
      "text/html": [
       "<div>\n",
       "<style scoped>\n",
       "    .dataframe tbody tr th:only-of-type {\n",
       "        vertical-align: middle;\n",
       "    }\n",
       "\n",
       "    .dataframe tbody tr th {\n",
       "        vertical-align: top;\n",
       "    }\n",
       "\n",
       "    .dataframe thead th {\n",
       "        text-align: right;\n",
       "    }\n",
       "</style>\n",
       "<table border=\"1\" class=\"dataframe\">\n",
       "  <thead>\n",
       "    <tr style=\"text-align: right;\">\n",
       "      <th></th>\n",
       "      <th></th>\n",
       "      <th>requests</th>\n",
       "      <th>%</th>\n",
       "    </tr>\n",
       "    <tr>\n",
       "      <th>bureau_cd</th>\n",
       "      <th>default</th>\n",
       "      <th></th>\n",
       "      <th></th>\n",
       "    </tr>\n",
       "  </thead>\n",
       "  <tbody>\n",
       "    <tr>\n",
       "      <th rowspan=\"2\" valign=\"top\">1</th>\n",
       "      <th>0</th>\n",
       "      <td>68009</td>\n",
       "      <td>0.892518</td>\n",
       "    </tr>\n",
       "    <tr>\n",
       "      <th>1</th>\n",
       "      <td>8190</td>\n",
       "      <td>0.107482</td>\n",
       "    </tr>\n",
       "    <tr>\n",
       "      <th rowspan=\"2\" valign=\"top\">2</th>\n",
       "      <th>0</th>\n",
       "      <td>42204</td>\n",
       "      <td>0.905374</td>\n",
       "    </tr>\n",
       "    <tr>\n",
       "      <th>1</th>\n",
       "      <td>4411</td>\n",
       "      <td>0.094626</td>\n",
       "    </tr>\n",
       "    <tr>\n",
       "      <th rowspan=\"2\" valign=\"top\">3</th>\n",
       "      <th>0</th>\n",
       "      <td>63735</td>\n",
       "      <td>0.905841</td>\n",
       "    </tr>\n",
       "    <tr>\n",
       "      <th>1</th>\n",
       "      <td>6625</td>\n",
       "      <td>0.094159</td>\n",
       "    </tr>\n",
       "  </tbody>\n",
       "</table>\n",
       "</div>"
      ],
      "text/plain": [
       "                   requests         %\n",
       "bureau_cd default                    \n",
       "1         0           68009  0.892518\n",
       "          1            8190  0.107482\n",
       "2         0           42204  0.905374\n",
       "          1            4411  0.094626\n",
       "3         0           63735  0.905841\n",
       "          1            6625  0.094159"
      ]
     },
     "execution_count": 15,
     "metadata": {},
     "output_type": "execute_result"
    }
   ],
   "source": [
    "df_bureau_cd = pd.DataFrame(df.groupby(['bureau_cd', 'default'])['bureau_cd'].count())\n",
    "df_bureau_cd.rename(columns={'bureau_cd':'requests'}, inplace=True)\n",
    "df_bureau_cd['%'] = df_bureau_cd['requests'] / df_bureau_cd.groupby('bureau_cd')['requests'].transform('sum')\n",
    "\n",
    "df_bureau_cd\n",
    "\n",
    "# примерно одинаковое соотношение дефолта в каждом бюро - 90 на 10,\n",
    "# в первом чуть больше дефолтов (1)"
   ]
  },
  {
   "cell_type": "code",
   "execution_count": 16,
   "id": "6e9d2083",
   "metadata": {
    "hidden": true
   },
   "outputs": [
    {
     "data": {
      "image/png": "[encoded data removed]",
      "text/plain": [
       "<Figure size 504x432 with 1 Axes>"
      ]
     },
     "metadata": {
      "needs_background": "light"
     },
     "output_type": "display_data"
    }
   ],
   "source": [
    "plt.figure(figsize=(7, 6))\n",
    "sns.countplot(x=df.type.astype('category'), data=df, hue='default')\n",
    "plt.xticks(rotation=90)\n",
    "plt.show()\n",
    "\n",
    "# больше всего кредитов на категории 9, 7, 99 - это \"потребительский кредит\", \"кредитная карта\" и\n",
    "# \"другое\""
   ]
  },
  {
   "cell_type": "code",
   "execution_count": 17,
   "id": "9edc1513",
   "metadata": {
    "hidden": true
   },
   "outputs": [
    {
     "data": {
      "image/png": "[encoded data removed]",
      "text/plain": [
       "<Figure size 504x432 with 1 Axes>"
      ]
     },
     "metadata": {
      "needs_background": "light"
     },
     "output_type": "display_data"
    }
   ],
   "source": [
    "plt.figure(figsize=(7, 6))\n",
    "sns.countplot(x=df.status.astype('category'), data=df, hue='default')\n",
    "plt.xticks(rotation=90)\n",
    "plt.show()\n",
    "\n",
    "# по статусу договора - 13 \"счет закрыт\", 0 \"активный\", 52 \"просрочен\""
   ]
  },
  {
   "cell_type": "code",
   "execution_count": 18,
   "id": "6f1487d1",
   "metadata": {
    "hidden": true
   },
   "outputs": [
    {
     "data": {
      "image/png": "[encoded data removed]",
      "text/plain": [
       "<Figure size 440.875x360 with 1 Axes>"
      ]
     },
     "metadata": {
      "needs_background": "light"
     },
     "output_type": "display_data"
    }
   ],
   "source": [
    "temp = df.query('credit_limit<1000_000')\n",
    "\n",
    "sns.displot({'default 0': np.cbrt(temp[temp.default==0].credit_limit),\n",
    "              'default 1': np.cbrt(temp[temp.default==1].credit_limit)}, kind='kde', common_norm=False)\n",
    "\n",
    "plt.title('default and credit_limit') \n",
    "plt.show()\n",
    "\n",
    "# в целом одинаковая пропорция по кредитному лимиту"
   ]
  },
  {
   "cell_type": "code",
   "execution_count": 19,
   "id": "ea16c95d",
   "metadata": {
    "hidden": true
   },
   "outputs": [
    {
     "data": {
      "image/png": "[encoded data removed]",
      "text/plain": [
       "<Figure size 1440x504 with 2 Axes>"
      ]
     },
     "metadata": {
      "needs_background": "light"
     },
     "output_type": "display_data"
    },
    {
     "name": "stdout",
     "output_type": "stream",
     "text": [
      "Виды валют: Counter({'RUB': 192328, 'USD': 785, 'EUR': 55, 'CHF': 6})\n"
     ]
    }
   ],
   "source": [
    "plt.figure(figsize=(20, 7))\n",
    "\n",
    "plt.subplot(1, 2, 1)\n",
    "sns.countplot(x='currency', data=df, hue='default')\n",
    "plt.xticks(rotation=90)\n",
    "\n",
    "plt.subplot(1, 2, 2)\n",
    "temp2 = df.query('currency!=\"RUB\"')\n",
    "sns.countplot(x='currency', data=temp2, hue='default')\n",
    "plt.xticks(rotation=90)\n",
    "plt.show()\n",
    "\n",
    "print('Виды валют:', Counter(df.currency))\n",
    "# суммы в датасете указаны в рублях, поэтому делать конвертацию не требуется"
   ]
  },
  {
   "cell_type": "code",
   "execution_count": 87,
   "id": "affa523c",
   "metadata": {
    "hidden": true
   },
   "outputs": [
    {
     "data": {
      "image/png": "[encoded data removed]",
      "text/plain": [
       "<Figure size 1080x1080 with 6 Axes>"
      ]
     },
     "metadata": {
      "needs_background": "light"
     },
     "output_type": "display_data"
    }
   ],
   "source": [
    "plt.figure(figsize=(15, 15))\n",
    "plt.subplots_adjust(wspace=0.3, hspace=0.5)\n",
    "\n",
    "cols = ['ttl_delq_5', 'ttl_delq_5_29', 'ttl_delq_30', 'ttl_delq_30_59', \n",
    "        'ttl_delq_60_89', 'ttl_delq_90_plus']\n",
    "\n",
    "\n",
    "ncols = 2\n",
    "nrows = len(cols) // ncols + (len(cols) % ncols > 0)\n",
    "\n",
    "for ind, col in enumerate(cols):\n",
    "    \n",
    "    temp = df.query(f'0 < {col} <= 5')\n",
    "    ax = plt.subplot(nrows, ncols, ind + 1)\n",
    "    sns.distplot(temp[col], bins=110, color = (np.random.random(), np.random.random(), np.random.random()))\n",
    "    plt.title(f'{col} distplot')\n",
    "\n",
    "plt.show()\n",
    "\n",
    "# распределения по количеству просрочек\n",
    "# "
   ]
  },
  {
   "cell_type": "code",
   "execution_count": 265,
   "id": "b3c780ce",
   "metadata": {
    "hidden": true
   },
   "outputs": [
    {
     "data": {
      "text/plain": [
       "<AxesSubplot:xlabel='interest_rate'>"
      ]
     },
     "execution_count": 265,
     "metadata": {},
     "output_type": "execute_result"
    },
    {
     "data": {
      "image/png": "[encoded data removed]",
      "text/plain": [
       "<Figure size 432x288 with 1 Axes>"
      ]
     },
     "metadata": {
      "needs_background": "light"
     },
     "output_type": "display_data"
    }
   ],
   "source": [
    "# в колонке процентной ставки много строк с 0% и 50+%\n",
    "# если ограничить interest_rate, то больинство ставок будет 18-20%\n",
    "sns.boxplot(df.query('0<interest_rate<50').interest_rate)"
   ]
  },
  {
   "cell_type": "code",
   "execution_count": 21,
   "id": "0576b8ed",
   "metadata": {
    "hidden": true
   },
   "outputs": [
    {
     "data": {
      "text/plain": [
       "<AxesSubplot:xlabel='interest_rate'>"
      ]
     },
     "execution_count": 21,
     "metadata": {},
     "output_type": "execute_result"
    },
    {
     "data": {
      "image/png": "[encoded data removed]",
      "text/plain": [
       "<Figure size 432x288 with 1 Axes>"
      ]
     },
     "metadata": {
      "needs_background": "light"
     },
     "output_type": "display_data"
    }
   ],
   "source": [
    "sns.boxplot(df.query('0<=interest_rate').interest_rate)\n",
    "# ставка в 0% - скорее всего обычный пропуск или акция, например, 0% на первый месяц\n",
    "# ставки больше 50% тоже не корректны"
   ]
  },
  {
   "cell_type": "code",
   "execution_count": 81,
   "id": "459220e4",
   "metadata": {
    "hidden": true
   },
   "outputs": [
    {
     "data": {
      "image/png": "[encoded data removed]",
      "text/plain": [
       "<Figure size 504x432 with 1 Axes>"
      ]
     },
     "metadata": {
      "needs_background": "light"
     },
     "output_type": "display_data"
    },
    {
     "name": "stdout",
     "output_type": "stream",
     "text": [
      "Counter({1: 15680, 4: 193, 5: 1})\n"
     ]
    }
   ],
   "source": [
    "plt.figure(figsize=(7, 6))\n",
    "sns.countplot(x=df.relationship.astype('category'), data=df, hue='default')\n",
    "plt.xticks(rotation=90)\n",
    "plt.show()\n",
    "\n",
    "print(Counter(df.relationship.astype('category')))\n",
    "# по статусу договора - 13 \"счет закрыт\", 0 \"активный\", 52 \"просрочен\""
   ]
  },
  {
   "cell_type": "code",
   "execution_count": 47,
   "id": "a2775ae4",
   "metadata": {
    "hidden": true,
    "scrolled": true
   },
   "outputs": [
    {
     "data": {
      "image/png": "[encoded data removed]",
      "text/plain": [
       "<Figure size 1080x2160 with 12 Axes>"
      ]
     },
     "metadata": {
      "needs_background": "light"
     },
     "output_type": "display_data"
    }
   ],
   "source": [
    "plt.figure(figsize=(15, 30))\n",
    "plt.subplots_adjust(wspace=0.3, hspace=0.8)\n",
    "\n",
    "cols_all = df.drop('tcs_customer_id', axis=1).select_dtypes('int64').iloc[:, :18].columns.to_list()\n",
    "\n",
    "cols_inds = [col for ind, col in enumerate(cols_all) if re.search('date', col.lower())]\n",
    "\n",
    "cols = list(set(cols_all).symmetric_difference(set(cols_inds)))\n",
    "\n",
    "ncols = 3\n",
    "nrows = len(cols) // ncols + (len(cols) % ncols > 0)\n",
    "\n",
    "for ind, col in enumerate(cols):\n",
    "    ax = plt.subplot(nrows, ncols, ind + 1)\n",
    "\n",
    "    sns.distplot(np.cbrt(df[col]), bins=110, color = (np.random.random(), np.random.random(), np.random.random()))\n",
    "    plt.title(col)\n",
    "\n",
    "plt.show()"
   ]
  },
  {
   "cell_type": "code",
   "execution_count": 48,
   "id": "615a3664",
   "metadata": {
    "hidden": true,
    "scrolled": true
   },
   "outputs": [
    {
     "data": {
      "image/png": "[encoded data removed]",
      "text/plain": [
       "<Figure size 1080x2160 with 12 Axes>"
      ]
     },
     "metadata": {
      "needs_background": "light"
     },
     "output_type": "display_data"
    }
   ],
   "source": [
    "plt.figure(figsize=(15, 30))\n",
    "plt.subplots_adjust(wspace=0.3, hspace=0.8)\n",
    "\n",
    "cols_all = df.drop('tcs_customer_id', axis=1).select_dtypes('int64').iloc[:, :18].columns.to_list()\n",
    "\n",
    "cols_inds = [col for ind, col in enumerate(cols_all) if re.search('date', col.lower())]\n",
    "\n",
    "cols = list(set(cols_all).symmetric_difference(set(cols_inds)))\n",
    "\n",
    "ncols = 3\n",
    "nrows = len(cols) // ncols + (len(cols) % ncols > 0)\n",
    "\n",
    "for ind, col in enumerate(cols):\n",
    "    ax = plt.subplot(nrows, ncols, ind + 1)\n",
    "\n",
    "    sns.boxplot(x=df[col])\n",
    "    plt.title(col)\n",
    "\n",
    "plt.show()"
   ]
  },
  {
   "cell_type": "markdown",
   "id": "1677d9d5",
   "metadata": {},
   "source": [
    "## 2. Изменение датасета"
   ]
  },
  {
   "cell_type": "markdown",
   "id": "2377b182",
   "metadata": {},
   "source": [
    "В датасете несколько строк может относиться к одному клиенту. Для того, чтобы предсказать именно дефолт клиента, а не один взятый кредит (строка), требуется переделать датасет по-другому:\n",
    "\n",
    "**Модель нового датасета:**\n",
    "* Каждого клиента переводим в кластер (делаем группу клиентов), обобщая его прошлые кредиты\n",
    "* Для колонки в старом датасете создаем новую, сгрупированную по ID клиента\n",
    "\n",
    "\n",
    "**Пример (примерно такого вида датасет):**\n",
    "\n",
    "|id |  credit_limit | interest_rate | status | default|\n",
    "|:--|--------------:|--------------:|-------:|-------:|\n",
    "|1  |  10_000       | 10            | 99     | 0\n",
    "|1  |  20_000       | 15 | 13 | 0\n",
    "|2  |  100_000      | 20 | 1 | 1|\n",
    "\n",
    "**Данные выше преобразуются в следующий формат:**\n",
    "\n",
    "|id |  credit_limit | interest_rate | frequency_99 | frequency_13 | frequency_1 | default|\n",
    "|:-|---------------:|--------------:|-------------:|-------------:|------------:|-------:|\n",
    "1 | 15_000 | 12.5 | 1 | 1 | 0 | 0\n",
    "2 | 100_000 | 20 | 0 | 0 | 1 | 1\n",
    "\n",
    "В данном примере мы брали среднее по credit_limit и interest_rate. Для таких факторов, как status или type,\n",
    "которые являются категориальными, была реализована функция, которая считает количество повторений и заносит их\n",
    "в таблицу. frequency_99 - частота договора со статусом 99 у клиента с ID 1, то есть у клиента был всего один кредит\n",
    "со статусом 99. Аналогично будут добавлены в новую таблицу такие факторы.\n",
    "\n",
    "\n",
    ">\n",
    "> Итоговый датасет будет следующим:\n",
    "> * Для каждого категориального признака посчитаем его частоту у каждого клиента\n",
    "> * Для числовых признаков добавим среднее, медиану, сумму (не для всех)\n",
    "> * Для дат посчитаем кредитную историю - число дней, месяец и лет\n",
    "> * После этого можно будет строить модели не для предсказания дефолта конкретного **счета**,\n",
    "а для предсказания дефолта **клиента**"
   ]
  },
  {
   "cell_type": "code",
   "execution_count": 62,
   "id": "0b6376ec",
   "metadata": {
    "code_folding": [],
    "scrolled": false
   },
   "outputs": [
    {
     "name": "stdout",
     "output_type": "stream",
     "text": [
      "0. Start creating df...  || TIME: 0:00:00 \n",
      "\n",
      "1. Add status...  || TIME: 0:00:00.023912\n"
     ]
    },
    {
     "data": {
      "application/vnd.jupyter.widget-view+json": {
       "model_id": "70647d2046a24d93bd8f2087805166db",
       "version_major": 2,
       "version_minor": 0
      },
      "text/plain": [
       "  0%|          | 0/35031 [00:00<?, ?it/s]"
      ]
     },
     "metadata": {},
     "output_type": "display_data"
    },
    {
     "name": "stdout",
     "output_type": "stream",
     "text": [
      "2. Add type...  || TIME: 0:00:19.837999\n"
     ]
    },
    {
     "data": {
      "application/vnd.jupyter.widget-view+json": {
       "model_id": "b017b650162e4d1ba12bf576c9eadc18",
       "version_major": 2,
       "version_minor": 0
      },
      "text/plain": [
       "  0%|          | 0/35031 [00:00<?, ?it/s]"
      ]
     },
     "metadata": {},
     "output_type": "display_data"
    },
    {
     "name": "stdout",
     "output_type": "stream",
     "text": [
      "3. Add bureau_cd...  || TIME: 0:00:39.905887 \n",
      "\n",
      "4. Add mean/ median of credit_limit...  || TIME: 0:00:40.598035 \n",
      "\n",
      "5. Add default...  || TIME: 0:00:40.620974 \n",
      "\n",
      "6. Add relationship...  || TIME: 0:00:40.629950\n"
     ]
    },
    {
     "data": {
      "application/vnd.jupyter.widget-view+json": {
       "model_id": "0d98881fdf5e49b49361d8315ef3f1ac",
       "version_major": 2,
       "version_minor": 0
      },
      "text/plain": [
       "  0%|          | 0/35031 [00:00<?, ?it/s]"
      ]
     },
     "metadata": {},
     "output_type": "display_data"
    },
    {
     "name": "stdout",
     "output_type": "stream",
     "text": [
      "7. Add mean/ median of interest_rate...  || TIME: 0:00:58.842355 \n",
      "\n",
      "8. Add mean/ median/ sum of all ttl_delq...  || TIME: 0:00:58.864296 \n",
      "\n",
      "9. Add mean/ median/ sum of max_delq_balance...  || TIME: 0:00:59.047783 \n",
      "\n",
      "10. Add mean/ median/ sum of max_delq_balance...  || TIME: 0:00:59.079726 \n",
      "\n",
      "10. Add dates...  || TIME: 0:00:59.109615 \n",
      "\n",
      "11. Add mean/ median/ sum of curr_balance_amt...  || TIME: 0:00:59.185412 \n",
      "\n",
      "\u001b[1mEnd! \n",
      "TOTAL TIME: 0:00:59.219321\u001b[0m\n",
      "====================================================== \n",
      "\n",
      "\n",
      "Count of default: Counter({0: 30733, 1: 4298})\n",
      "Shape new df: (35031, 59) \n",
      "\n",
      "CPU times: total: 59.2 s\n",
      "Wall time: 59.2 s\n"
     ]
    }
   ],
   "source": [
    "%%time\n",
    "start_time = datetime.now()\n",
    "\n",
    "print('0. Start creating df...', f' || TIME: {datetime.now() - start_time} \\n')\n",
    "df_res = pd.DataFrame(index=pd.Index(set(df.tcs_customer_id)))\n",
    "\n",
    "\n",
    "\n",
    "print('1. Add status...', f' || TIME: {datetime.now() - start_time}')\n",
    "status_freq_df = count_freq(df=df, type_to_count='status')\n",
    "df_res = pd.concat([df_res, status_freq_df], axis=1)\n",
    "\n",
    "\n",
    "\n",
    "print('2. Add type...', f' || TIME: {datetime.now() - start_time}')\n",
    "type_freq_df = count_freq(df=df, type_to_count='type')\n",
    "df_res = pd.concat([df_res, type_freq_df], axis=1)\n",
    "\n",
    "\n",
    "\n",
    "print('3. Add bureau_cd...', f' || TIME: {datetime.now() - start_time} \\n')\n",
    "df_res['bureau_cd'] = df.groupby('tcs_customer_id')['bureau_cd'] \\\n",
    "                      .apply(lambda x: Counter(x).most_common()[0][0]) \\\n",
    "                      .astype(int)\n",
    "\n",
    "\n",
    "\n",
    "print('4. Add mean/ median of credit_limit...', f' || TIME: {datetime.now() - start_time} \\n')\n",
    "df_res['credit_limit_mean'] = df[['tcs_customer_id', 'credit_limit']] \\\n",
    "                              .groupby('tcs_customer_id')['credit_limit'].mean()\n",
    "\n",
    "df_res['credit_limit_median'] = df[['tcs_customer_id', 'credit_limit']] \\\n",
    "                                .groupby('tcs_customer_id')['credit_limit'].median()\n",
    "\n",
    "\n",
    "\n",
    "\n",
    "print('5. Add default...', f' || TIME: {datetime.now() - start_time} \\n')\n",
    "df_res['default'] = df[['tcs_customer_id', 'default']] \\\n",
    "                    .groupby('tcs_customer_id')['default'].mean().astype(int)\n",
    "\n",
    "\n",
    "\n",
    "\n",
    "print('6. Add relationship...', f' || TIME: {datetime.now() - start_time}')\n",
    "relationship_freq_df = count_freq(df=df, type_to_count='relationship')\n",
    "df_res = pd.concat([df_res, relationship_freq_df], axis=1)\n",
    "\n",
    "\n",
    "\n",
    "\n",
    "print('7. Add mean/ median of interest_rate...', f' || TIME: {datetime.now() - start_time} \\n')\n",
    "df_res['interest_rate_mean'] = df[['tcs_customer_id', 'interest_rate']] \\\n",
    "                               .groupby('tcs_customer_id')['interest_rate'].mean()\n",
    "\n",
    "df_res['interest_rate_median'] = df[['tcs_customer_id', 'interest_rate']] \\\n",
    "                                .groupby('tcs_customer_id')['interest_rate'].median()\n",
    "\n",
    "\n",
    "\n",
    "\n",
    "print('8. Add mean/ median/ sum of all ttl_delq...', \n",
    "      f' || TIME: {datetime.now() - start_time} \\n')\n",
    "cols_ttl = ['ttl_delq_5', 'ttl_delq_5_29', 'ttl_delq_30', 'ttl_delq_30_59', \n",
    "            'ttl_delq_60_89', 'ttl_delq_90_plus']\n",
    "for col in cols_ttl:\n",
    "    df_res[col] = df[['tcs_customer_id', col]].groupby('tcs_customer_id')[col].sum()\n",
    "    df_res[col+'_mean'] = df[['tcs_customer_id', col]].groupby('tcs_customer_id')[col].mean()\n",
    "    df_res[col+'_sum'] = df[['tcs_customer_id', col]].groupby('tcs_customer_id')[col].median()\n",
    "\n",
    "    \n",
    "    \n",
    "    \n",
    "print('9. Add mean/ median/ sum of max_delq_balance...', f' || TIME: {datetime.now() - start_time} \\n')    \n",
    "df_res['max_delq_balance_mean'] = df[['tcs_customer_id', 'max_delq_balance']] \\\n",
    "                                  .groupby('tcs_customer_id')['max_delq_balance'].mean()\n",
    "df_res['max_delq_balance_median'] = df[['tcs_customer_id', 'max_delq_balance']] \\\n",
    "                                    .groupby('tcs_customer_id')['max_delq_balance'].median()\n",
    "df_res['max_delq_balance_sum'] = df[['tcs_customer_id', 'max_delq_balance']] \\\n",
    "                                 .groupby('tcs_customer_id')['max_delq_balance'].sum()\n",
    "    \n",
    "    \n",
    "    \n",
    "print('10. Add mean/ median/ sum of delq_balance...', f' || TIME: {datetime.now() - start_time} \\n') \n",
    "df_res['delq_balance_mean'] = df[['tcs_customer_id', 'delq_balance']] \\\n",
    "                                  .groupby('tcs_customer_id')['delq_balance'].mean()\n",
    "df_res['delq_balance_median'] = df[['tcs_customer_id', 'delq_balance']] \\\n",
    "                                    .groupby('tcs_customer_id')['delq_balance'].median()\n",
    "df_res['delq_balance_sum'] = df[['tcs_customer_id', 'delq_balance']] \\\n",
    "                                 .groupby('tcs_customer_id')['delq_balance'].sum()    \n",
    "    \n",
    "    \n",
    "    \n",
    "print('10. Add dates...', f' || TIME: {datetime.now() - start_time} \\n') \n",
    "dates = pd.DataFrame(df.groupby('tcs_customer_id')['open_date'].min().values, columns=['min'])\n",
    "dates['max'] =  df.groupby('tcs_customer_id')['open_date'].max().values\n",
    "\n",
    "dates['min'] = vget_time(dates['min'])\n",
    "dates['max'] = vget_time(dates['max'])\n",
    "dates['diff_days'] = (dates['max'] - dates['min']).dt.days\n",
    "\n",
    "df_res['diff_days'] = dates['diff_days'].values\n",
    "df_res['diff_year'] = (df_res['diff_days'] / 365).astype('int64')\n",
    "df_res['diff_month'] = (df_res['diff_days'] / 30).astype('int64') \n",
    "    \n",
    "    \n",
    "    \n",
    "    \n",
    "print('11. Add mean/ median/ sum of curr_balance_amt...', f' || TIME: {datetime.now() - start_time} \\n') \n",
    "df_res['curr_balance_amt_mean'] = df[['tcs_customer_id', 'curr_balance_amt']] \\\n",
    "                                  .groupby('tcs_customer_id')['curr_balance_amt'].mean()\n",
    "df_res['curr_balance_amt_mean'].fillna(df_res['curr_balance_amt_mean'].mean(), inplace=True)\n",
    "\n",
    "df_res['curr_balance_amt_median'] = df[['tcs_customer_id', 'curr_balance_amt']] \\\n",
    "                                    .groupby('tcs_customer_id')['curr_balance_amt'].median()\n",
    "df_res['curr_balance_amt_median'].fillna(df_res['curr_balance_amt_median'].median(), inplace=True)\n",
    "\n",
    "df_res['curr_balance_amt_sum'] = df[['tcs_customer_id', 'curr_balance_amt']] \\\n",
    "                                 .groupby('tcs_customer_id')['curr_balance_amt'].sum()      \n",
    "    \n",
    "\n",
    "print('\\033[1m' + 'End! \\n' + f'TOTAL TIME: {datetime.now() - start_time}' + '\\033[0m')\n",
    "print('====================================================== \\n\\n')\n",
    "\n",
    "print('Count of default:', Counter(df_res.default))\n",
    "\n",
    "print(f'Shape new df: {df_res.shape} \\n')"
   ]
  },
  {
   "cell_type": "code",
   "execution_count": 64,
   "id": "7de02443",
   "metadata": {},
   "outputs": [
    {
     "name": "stdout",
     "output_type": "stream",
     "text": [
      "Index(['STATUS_freq_type_0', 'STATUS_freq_type_12', 'STATUS_freq_type_13',\n",
      "       'STATUS_freq_type_14', 'STATUS_freq_type_52', 'STATUS_freq_type_21',\n",
      "       'STATUS_freq_type_61', 'TYPE_freq_type_1', 'TYPE_freq_type_99',\n",
      "       'TYPE_freq_type_4', 'TYPE_freq_type_6', 'TYPE_freq_type_7',\n",
      "       'TYPE_freq_type_9', 'TYPE_freq_type_10', 'TYPE_freq_type_11',\n",
      "       'TYPE_freq_type_12', 'TYPE_freq_type_13', 'TYPE_freq_type_14',\n",
      "       'bureau_cd', 'credit_limit_mean', 'credit_limit_median', 'default',\n",
      "       'RELATIONSHIP_freq_type_1', 'RELATIONSHIP_freq_type_2',\n",
      "       'RELATIONSHIP_freq_type_4', 'RELATIONSHIP_freq_type_5',\n",
      "       'RELATIONSHIP_freq_type_9', 'interest_rate_mean',\n",
      "       'interest_rate_median', 'ttl_delq_5', 'ttl_delq_5_mean',\n",
      "       'ttl_delq_5_sum', 'ttl_delq_5_29', 'ttl_delq_5_29_mean',\n",
      "       'ttl_delq_5_29_sum', 'ttl_delq_30', 'ttl_delq_30_mean',\n",
      "       'ttl_delq_30_sum', 'ttl_delq_30_59', 'ttl_delq_30_59_mean',\n",
      "       'ttl_delq_30_59_sum', 'ttl_delq_60_89', 'ttl_delq_60_89_mean',\n",
      "       'ttl_delq_60_89_sum', 'ttl_delq_90_plus', 'ttl_delq_90_plus_mean',\n",
      "       'ttl_delq_90_plus_sum', 'max_delq_balance_mean',\n",
      "       'max_delq_balance_median', 'max_delq_balance_sum', 'delq_balance_mean',\n",
      "       'delq_balance_median', 'delq_balance_sum', 'diff_days', 'diff_year',\n",
      "       'diff_month', 'curr_balance_amt_mean', 'curr_balance_amt_median',\n",
      "       'curr_balance_amt_sum'],\n",
      "      dtype='object')\n",
      "Количество колонок -  59\n",
      "Размер датасета -  (35031, 59)\n"
     ]
    },
    {
     "data": {
      "text/html": [
       "<div>\n",
       "<style scoped>\n",
       "    .dataframe tbody tr th:only-of-type {\n",
       "        vertical-align: middle;\n",
       "    }\n",
       "\n",
       "    .dataframe tbody tr th {\n",
       "        vertical-align: top;\n",
       "    }\n",
       "\n",
       "    .dataframe thead th {\n",
       "        text-align: right;\n",
       "    }\n",
       "</style>\n",
       "<table border=\"1\" class=\"dataframe\">\n",
       "  <thead>\n",
       "    <tr style=\"text-align: right;\">\n",
       "      <th></th>\n",
       "      <th>STATUS_freq_type_0</th>\n",
       "      <th>STATUS_freq_type_12</th>\n",
       "      <th>STATUS_freq_type_13</th>\n",
       "      <th>STATUS_freq_type_14</th>\n",
       "      <th>STATUS_freq_type_52</th>\n",
       "      <th>STATUS_freq_type_21</th>\n",
       "      <th>STATUS_freq_type_61</th>\n",
       "      <th>TYPE_freq_type_1</th>\n",
       "      <th>TYPE_freq_type_99</th>\n",
       "      <th>TYPE_freq_type_4</th>\n",
       "      <th>...</th>\n",
       "      <th>max_delq_balance_sum</th>\n",
       "      <th>delq_balance_mean</th>\n",
       "      <th>delq_balance_median</th>\n",
       "      <th>delq_balance_sum</th>\n",
       "      <th>diff_days</th>\n",
       "      <th>diff_year</th>\n",
       "      <th>diff_month</th>\n",
       "      <th>curr_balance_amt_mean</th>\n",
       "      <th>curr_balance_amt_median</th>\n",
       "      <th>curr_balance_amt_sum</th>\n",
       "    </tr>\n",
       "  </thead>\n",
       "  <tbody>\n",
       "    <tr>\n",
       "      <th>2</th>\n",
       "      <td>1</td>\n",
       "      <td>0</td>\n",
       "      <td>2</td>\n",
       "      <td>0</td>\n",
       "      <td>0</td>\n",
       "      <td>0</td>\n",
       "      <td>0</td>\n",
       "      <td>0</td>\n",
       "      <td>0</td>\n",
       "      <td>0</td>\n",
       "      <td>...</td>\n",
       "      <td>0.00</td>\n",
       "      <td>0.0</td>\n",
       "      <td>0.0</td>\n",
       "      <td>0.0</td>\n",
       "      <td>180</td>\n",
       "      <td>0</td>\n",
       "      <td>6</td>\n",
       "      <td>3870.000000</td>\n",
       "      <td>3870.0</td>\n",
       "      <td>7740.0</td>\n",
       "    </tr>\n",
       "    <tr>\n",
       "      <th>3</th>\n",
       "      <td>3</td>\n",
       "      <td>0</td>\n",
       "      <td>1</td>\n",
       "      <td>0</td>\n",
       "      <td>0</td>\n",
       "      <td>0</td>\n",
       "      <td>0</td>\n",
       "      <td>0</td>\n",
       "      <td>0</td>\n",
       "      <td>0</td>\n",
       "      <td>...</td>\n",
       "      <td>0.00</td>\n",
       "      <td>0.0</td>\n",
       "      <td>0.0</td>\n",
       "      <td>0.0</td>\n",
       "      <td>957</td>\n",
       "      <td>2</td>\n",
       "      <td>31</td>\n",
       "      <td>0.000000</td>\n",
       "      <td>0.0</td>\n",
       "      <td>0.0</td>\n",
       "    </tr>\n",
       "    <tr>\n",
       "      <th>4</th>\n",
       "      <td>6</td>\n",
       "      <td>0</td>\n",
       "      <td>9</td>\n",
       "      <td>0</td>\n",
       "      <td>0</td>\n",
       "      <td>0</td>\n",
       "      <td>0</td>\n",
       "      <td>0</td>\n",
       "      <td>1</td>\n",
       "      <td>0</td>\n",
       "      <td>...</td>\n",
       "      <td>27.00</td>\n",
       "      <td>0.0</td>\n",
       "      <td>0.0</td>\n",
       "      <td>0.0</td>\n",
       "      <td>1868</td>\n",
       "      <td>5</td>\n",
       "      <td>62</td>\n",
       "      <td>8111.833333</td>\n",
       "      <td>7258.0</td>\n",
       "      <td>48671.0</td>\n",
       "    </tr>\n",
       "    <tr>\n",
       "      <th>5</th>\n",
       "      <td>0</td>\n",
       "      <td>0</td>\n",
       "      <td>1</td>\n",
       "      <td>0</td>\n",
       "      <td>0</td>\n",
       "      <td>0</td>\n",
       "      <td>0</td>\n",
       "      <td>0</td>\n",
       "      <td>0</td>\n",
       "      <td>0</td>\n",
       "      <td>...</td>\n",
       "      <td>997.47</td>\n",
       "      <td>0.0</td>\n",
       "      <td>0.0</td>\n",
       "      <td>0.0</td>\n",
       "      <td>0</td>\n",
       "      <td>0</td>\n",
       "      <td>0</td>\n",
       "      <td>55681.049046</td>\n",
       "      <td>13926.0</td>\n",
       "      <td>0.0</td>\n",
       "    </tr>\n",
       "    <tr>\n",
       "      <th>6</th>\n",
       "      <td>1</td>\n",
       "      <td>0</td>\n",
       "      <td>5</td>\n",
       "      <td>0</td>\n",
       "      <td>0</td>\n",
       "      <td>0</td>\n",
       "      <td>0</td>\n",
       "      <td>0</td>\n",
       "      <td>0</td>\n",
       "      <td>0</td>\n",
       "      <td>...</td>\n",
       "      <td>6537.00</td>\n",
       "      <td>0.0</td>\n",
       "      <td>0.0</td>\n",
       "      <td>0.0</td>\n",
       "      <td>365</td>\n",
       "      <td>1</td>\n",
       "      <td>12</td>\n",
       "      <td>22704.000000</td>\n",
       "      <td>22704.0</td>\n",
       "      <td>45408.0</td>\n",
       "    </tr>\n",
       "    <tr>\n",
       "      <th>...</th>\n",
       "      <td>...</td>\n",
       "      <td>...</td>\n",
       "      <td>...</td>\n",
       "      <td>...</td>\n",
       "      <td>...</td>\n",
       "      <td>...</td>\n",
       "      <td>...</td>\n",
       "      <td>...</td>\n",
       "      <td>...</td>\n",
       "      <td>...</td>\n",
       "      <td>...</td>\n",
       "      <td>...</td>\n",
       "      <td>...</td>\n",
       "      <td>...</td>\n",
       "      <td>...</td>\n",
       "      <td>...</td>\n",
       "      <td>...</td>\n",
       "      <td>...</td>\n",
       "      <td>...</td>\n",
       "      <td>...</td>\n",
       "      <td>...</td>\n",
       "    </tr>\n",
       "    <tr>\n",
       "      <th>49989</th>\n",
       "      <td>5</td>\n",
       "      <td>0</td>\n",
       "      <td>1</td>\n",
       "      <td>0</td>\n",
       "      <td>0</td>\n",
       "      <td>0</td>\n",
       "      <td>0</td>\n",
       "      <td>0</td>\n",
       "      <td>0</td>\n",
       "      <td>0</td>\n",
       "      <td>...</td>\n",
       "      <td>2749.01</td>\n",
       "      <td>0.0</td>\n",
       "      <td>0.0</td>\n",
       "      <td>0.0</td>\n",
       "      <td>455</td>\n",
       "      <td>1</td>\n",
       "      <td>15</td>\n",
       "      <td>1804.500000</td>\n",
       "      <td>1804.5</td>\n",
       "      <td>3609.0</td>\n",
       "    </tr>\n",
       "    <tr>\n",
       "      <th>49995</th>\n",
       "      <td>1</td>\n",
       "      <td>0</td>\n",
       "      <td>1</td>\n",
       "      <td>0</td>\n",
       "      <td>4</td>\n",
       "      <td>0</td>\n",
       "      <td>0</td>\n",
       "      <td>0</td>\n",
       "      <td>0</td>\n",
       "      <td>0</td>\n",
       "      <td>...</td>\n",
       "      <td>18012.00</td>\n",
       "      <td>3002.0</td>\n",
       "      <td>3330.0</td>\n",
       "      <td>18012.0</td>\n",
       "      <td>1691</td>\n",
       "      <td>4</td>\n",
       "      <td>56</td>\n",
       "      <td>38792.000000</td>\n",
       "      <td>38792.0</td>\n",
       "      <td>38792.0</td>\n",
       "    </tr>\n",
       "    <tr>\n",
       "      <th>49996</th>\n",
       "      <td>3</td>\n",
       "      <td>0</td>\n",
       "      <td>6</td>\n",
       "      <td>0</td>\n",
       "      <td>0</td>\n",
       "      <td>0</td>\n",
       "      <td>0</td>\n",
       "      <td>0</td>\n",
       "      <td>0</td>\n",
       "      <td>0</td>\n",
       "      <td>...</td>\n",
       "      <td>39624.00</td>\n",
       "      <td>0.0</td>\n",
       "      <td>0.0</td>\n",
       "      <td>0.0</td>\n",
       "      <td>581</td>\n",
       "      <td>1</td>\n",
       "      <td>19</td>\n",
       "      <td>131799.000000</td>\n",
       "      <td>57826.0</td>\n",
       "      <td>395397.0</td>\n",
       "    </tr>\n",
       "    <tr>\n",
       "      <th>49997</th>\n",
       "      <td>1</td>\n",
       "      <td>0</td>\n",
       "      <td>0</td>\n",
       "      <td>0</td>\n",
       "      <td>0</td>\n",
       "      <td>0</td>\n",
       "      <td>0</td>\n",
       "      <td>0</td>\n",
       "      <td>0</td>\n",
       "      <td>0</td>\n",
       "      <td>...</td>\n",
       "      <td>0.00</td>\n",
       "      <td>0.0</td>\n",
       "      <td>0.0</td>\n",
       "      <td>0.0</td>\n",
       "      <td>0</td>\n",
       "      <td>0</td>\n",
       "      <td>0</td>\n",
       "      <td>11123.000000</td>\n",
       "      <td>11123.0</td>\n",
       "      <td>11123.0</td>\n",
       "    </tr>\n",
       "    <tr>\n",
       "      <th>50000</th>\n",
       "      <td>3</td>\n",
       "      <td>0</td>\n",
       "      <td>0</td>\n",
       "      <td>0</td>\n",
       "      <td>0</td>\n",
       "      <td>0</td>\n",
       "      <td>0</td>\n",
       "      <td>0</td>\n",
       "      <td>0</td>\n",
       "      <td>0</td>\n",
       "      <td>...</td>\n",
       "      <td>0.00</td>\n",
       "      <td>0.0</td>\n",
       "      <td>0.0</td>\n",
       "      <td>0.0</td>\n",
       "      <td>294</td>\n",
       "      <td>0</td>\n",
       "      <td>9</td>\n",
       "      <td>91400.000000</td>\n",
       "      <td>91400.0</td>\n",
       "      <td>91400.0</td>\n",
       "    </tr>\n",
       "  </tbody>\n",
       "</table>\n",
       "<p>35031 rows × 59 columns</p>\n",
       "</div>"
      ],
      "text/plain": [
       "       STATUS_freq_type_0  STATUS_freq_type_12  STATUS_freq_type_13  \\\n",
       "2                       1                    0                    2   \n",
       "3                       3                    0                    1   \n",
       "4                       6                    0                    9   \n",
       "5                       0                    0                    1   \n",
       "6                       1                    0                    5   \n",
       "...                   ...                  ...                  ...   \n",
       "49989                   5                    0                    1   \n",
       "49995                   1                    0                    1   \n",
       "49996                   3                    0                    6   \n",
       "49997                   1                    0                    0   \n",
       "50000                   3                    0                    0   \n",
       "\n",
       "       STATUS_freq_type_14  STATUS_freq_type_52  STATUS_freq_type_21  \\\n",
       "2                        0                    0                    0   \n",
       "3                        0                    0                    0   \n",
       "4                        0                    0                    0   \n",
       "5                        0                    0                    0   \n",
       "6                        0                    0                    0   \n",
       "...                    ...                  ...                  ...   \n",
       "49989                    0                    0                    0   \n",
       "49995                    0                    4                    0   \n",
       "49996                    0                    0                    0   \n",
       "49997                    0                    0                    0   \n",
       "50000                    0                    0                    0   \n",
       "\n",
       "       STATUS_freq_type_61  TYPE_freq_type_1  TYPE_freq_type_99  \\\n",
       "2                        0                 0                  0   \n",
       "3                        0                 0                  0   \n",
       "4                        0                 0                  1   \n",
       "5                        0                 0                  0   \n",
       "6                        0                 0                  0   \n",
       "...                    ...               ...                ...   \n",
       "49989                    0                 0                  0   \n",
       "49995                    0                 0                  0   \n",
       "49996                    0                 0                  0   \n",
       "49997                    0                 0                  0   \n",
       "50000                    0                 0                  0   \n",
       "\n",
       "       TYPE_freq_type_4  ...  max_delq_balance_sum  delq_balance_mean  \\\n",
       "2                     0  ...                  0.00                0.0   \n",
       "3                     0  ...                  0.00                0.0   \n",
       "4                     0  ...                 27.00                0.0   \n",
       "5                     0  ...                997.47                0.0   \n",
       "6                     0  ...               6537.00                0.0   \n",
       "...                 ...  ...                   ...                ...   \n",
       "49989                 0  ...               2749.01                0.0   \n",
       "49995                 0  ...              18012.00             3002.0   \n",
       "49996                 0  ...              39624.00                0.0   \n",
       "49997                 0  ...                  0.00                0.0   \n",
       "50000                 0  ...                  0.00                0.0   \n",
       "\n",
       "       delq_balance_median  delq_balance_sum  diff_days  diff_year  \\\n",
       "2                      0.0               0.0        180          0   \n",
       "3                      0.0               0.0        957          2   \n",
       "4                      0.0               0.0       1868          5   \n",
       "5                      0.0               0.0          0          0   \n",
       "6                      0.0               0.0        365          1   \n",
       "...                    ...               ...        ...        ...   \n",
       "49989                  0.0               0.0        455          1   \n",
       "49995               3330.0           18012.0       1691          4   \n",
       "49996                  0.0               0.0        581          1   \n",
       "49997                  0.0               0.0          0          0   \n",
       "50000                  0.0               0.0        294          0   \n",
       "\n",
       "       diff_month  curr_balance_amt_mean  curr_balance_amt_median  \\\n",
       "2               6            3870.000000                   3870.0   \n",
       "3              31               0.000000                      0.0   \n",
       "4              62            8111.833333                   7258.0   \n",
       "5               0           55681.049046                  13926.0   \n",
       "6              12           22704.000000                  22704.0   \n",
       "...           ...                    ...                      ...   \n",
       "49989          15            1804.500000                   1804.5   \n",
       "49995          56           38792.000000                  38792.0   \n",
       "49996          19          131799.000000                  57826.0   \n",
       "49997           0           11123.000000                  11123.0   \n",
       "50000           9           91400.000000                  91400.0   \n",
       "\n",
       "       curr_balance_amt_sum  \n",
       "2                    7740.0  \n",
       "3                       0.0  \n",
       "4                   48671.0  \n",
       "5                       0.0  \n",
       "6                   45408.0  \n",
       "...                     ...  \n",
       "49989                3609.0  \n",
       "49995               38792.0  \n",
       "49996              395397.0  \n",
       "49997               11123.0  \n",
       "50000               91400.0  \n",
       "\n",
       "[35031 rows x 59 columns]"
      ]
     },
     "execution_count": 64,
     "metadata": {},
     "output_type": "execute_result"
    }
   ],
   "source": [
    "print(df_res.columns)\n",
    "print('Количество колонок - ', len(df_res.columns))\n",
    "print('Размер датасета - ', df_res.shape)\n",
    "df_res"
   ]
  },
  {
   "cell_type": "code",
   "execution_count": 71,
   "id": "20e79664",
   "metadata": {},
   "outputs": [],
   "source": [
    "# сохраняем новый датасет\n",
    "df_res.to_csv('preprocessed_df.csv', sep=';', header=True, index=False)"
   ]
  }
 ],
 "metadata": {
  "kernelspec": {
   "display_name": "Python 3 (ipykernel)",
   "language": "python",
   "name": "python3"
  },
  "language_info": {
   "codemirror_mode": {
    "name": "ipython",
    "version": 3
   },
   "file_extension": ".py",
   "mimetype": "text/x-python",
   "name": "python",
   "nbconvert_exporter": "python",
   "pygments_lexer": "ipython3",
   "version": "3.9.12"
  },
  "toc": {
   "base_numbering": 1,
   "nav_menu": {
    "height": "161px",
    "width": "347px"
   },
   "number_sections": false,
   "sideBar": true,
   "skip_h1_title": false,
   "title_cell": "Table of Contents",
   "title_sidebar": "Contents",
   "toc_cell": true,
   "toc_position": {},
   "toc_section_display": true,
   "toc_window_display": false
  }
 },
 "nbformat": 4,
 "nbformat_minor": 5
}
