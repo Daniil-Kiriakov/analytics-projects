{
 "cells": [
  {
   "cell_type": "code",
   "execution_count": 8,
   "id": "33504064",
   "metadata": {},
   "outputs": [],
   "source": [
    "import json\n",
    "from collections import Counter\n",
    "import pandas as pd\n",
    "import numpy as np\n",
    "\n",
    "pd.options.mode.chained_assignment = None"
   ]
  },
  {
   "cell_type": "code",
   "execution_count": 9,
   "id": "b10fe83a",
   "metadata": {},
   "outputs": [],
   "source": [
    "output = pd.read_csv('output.csv')\n",
    "output = pd.read_json('route.json')\n",
    "\n",
    "with open('road_graph.json') as f:\n",
    "    graph = json.load(f)\n",
    "    f.close()"
   ]
  },
  {
   "cell_type": "code",
   "execution_count": 10,
   "id": "5719bbbe",
   "metadata": {},
   "outputs": [
    {
     "name": "stdout",
     "output_type": "stream",
     "text": [
      "Counter({'False': 90, True: 35}) Counter({'False': 80, True: 45})\n"
     ]
    },
    {
     "data": {
      "text/html": [
       "<div>\n",
       "<style scoped>\n",
       "    .dataframe tbody tr th:only-of-type {\n",
       "        vertical-align: middle;\n",
       "    }\n",
       "\n",
       "    .dataframe tbody tr th {\n",
       "        vertical-align: top;\n",
       "    }\n",
       "\n",
       "    .dataframe thead th {\n",
       "        text-align: right;\n",
       "    }\n",
       "</style>\n",
       "<table border=\"1\" class=\"dataframe\">\n",
       "  <thead>\n",
       "    <tr style=\"text-align: right;\">\n",
       "      <th></th>\n",
       "      <th>time</th>\n",
       "      <th>signal_group_1</th>\n",
       "      <th>signal_group_2</th>\n",
       "    </tr>\n",
       "  </thead>\n",
       "  <tbody>\n",
       "    <tr>\n",
       "      <th>0</th>\n",
       "      <td>2022-06-21 14:33:27+00:00</td>\n",
       "      <td>True</td>\n",
       "      <td>True</td>\n",
       "    </tr>\n",
       "    <tr>\n",
       "      <th>1</th>\n",
       "      <td>2022-06-21 14:33:28+00:00</td>\n",
       "      <td>True</td>\n",
       "      <td>True</td>\n",
       "    </tr>\n",
       "    <tr>\n",
       "      <th>2</th>\n",
       "      <td>2022-06-21 14:33:29+00:00</td>\n",
       "      <td>True</td>\n",
       "      <td>True</td>\n",
       "    </tr>\n",
       "    <tr>\n",
       "      <th>3</th>\n",
       "      <td>2022-06-21 14:33:30+00:00</td>\n",
       "      <td>True</td>\n",
       "      <td>True</td>\n",
       "    </tr>\n",
       "    <tr>\n",
       "      <th>4</th>\n",
       "      <td>2022-06-21 14:33:31+00:00</td>\n",
       "      <td>True</td>\n",
       "      <td>True</td>\n",
       "    </tr>\n",
       "  </tbody>\n",
       "</table>\n",
       "</div>"
      ],
      "text/plain": [
       "                       time signal_group_1 signal_group_2\n",
       "0 2022-06-21 14:33:27+00:00           True           True\n",
       "1 2022-06-21 14:33:28+00:00           True           True\n",
       "2 2022-06-21 14:33:29+00:00           True           True\n",
       "3 2022-06-21 14:33:30+00:00           True           True\n",
       "4 2022-06-21 14:33:31+00:00           True           True"
      ]
     },
     "execution_count": 10,
     "metadata": {},
     "output_type": "execute_result"
    }
   ],
   "source": [
    "data = pd.DataFrame()\n",
    "active_label, stop_label = True, False\n",
    "\n",
    "data['time'] = output['timestamp'].copy()\n",
    "data['signal_group_1'] = data['signal_group_2'] = [np.nan for i in range(len(output))]\n",
    "\n",
    "for i in range(0, len(data['signal_group_1']), 20):\n",
    "    for u in range(5):\n",
    "        data['signal_group_1'][i+u] = active_label\n",
    "\n",
    "for i in range(0, len(data['signal_group_2']), 15):\n",
    "    for u in range(5):\n",
    "        data['signal_group_2'][i+u] = active_label\n",
    "\n",
    "data['signal_group_1'].replace(np.nan, 'False', inplace=True)\n",
    "data['signal_group_2'].replace(np.nan, 'False', inplace=True)\n",
    "\n",
    "print(Counter(data['signal_group_1']), Counter(data['signal_group_2']))\n",
    "    \n",
    "data.head() # id light 1"
   ]
  },
  {
   "cell_type": "code",
   "execution_count": 11,
   "id": "bcae072d",
   "metadata": {},
   "outputs": [
    {
     "name": "stdout",
     "output_type": "stream",
     "text": [
      "Counter({'False': 90, True: 35}) Counter({'False': 100, True: 25})\n"
     ]
    },
    {
     "data": {
      "text/html": [
       "<div>\n",
       "<style scoped>\n",
       "    .dataframe tbody tr th:only-of-type {\n",
       "        vertical-align: middle;\n",
       "    }\n",
       "\n",
       "    .dataframe tbody tr th {\n",
       "        vertical-align: top;\n",
       "    }\n",
       "\n",
       "    .dataframe thead th {\n",
       "        text-align: right;\n",
       "    }\n",
       "</style>\n",
       "<table border=\"1\" class=\"dataframe\">\n",
       "  <thead>\n",
       "    <tr style=\"text-align: right;\">\n",
       "      <th></th>\n",
       "      <th>time</th>\n",
       "      <th>signal_group_1</th>\n",
       "      <th>signal_group_2</th>\n",
       "    </tr>\n",
       "  </thead>\n",
       "  <tbody>\n",
       "    <tr>\n",
       "      <th>0</th>\n",
       "      <td>2022-06-21 14:33:27+00:00</td>\n",
       "      <td>True</td>\n",
       "      <td>True</td>\n",
       "    </tr>\n",
       "    <tr>\n",
       "      <th>1</th>\n",
       "      <td>2022-06-21 14:33:28+00:00</td>\n",
       "      <td>True</td>\n",
       "      <td>True</td>\n",
       "    </tr>\n",
       "    <tr>\n",
       "      <th>2</th>\n",
       "      <td>2022-06-21 14:33:29+00:00</td>\n",
       "      <td>True</td>\n",
       "      <td>True</td>\n",
       "    </tr>\n",
       "    <tr>\n",
       "      <th>3</th>\n",
       "      <td>2022-06-21 14:33:30+00:00</td>\n",
       "      <td>True</td>\n",
       "      <td>True</td>\n",
       "    </tr>\n",
       "    <tr>\n",
       "      <th>4</th>\n",
       "      <td>2022-06-21 14:33:31+00:00</td>\n",
       "      <td>True</td>\n",
       "      <td>True</td>\n",
       "    </tr>\n",
       "  </tbody>\n",
       "</table>\n",
       "</div>"
      ],
      "text/plain": [
       "                       time signal_group_1 signal_group_2\n",
       "0 2022-06-21 14:33:27+00:00           True           True\n",
       "1 2022-06-21 14:33:28+00:00           True           True\n",
       "2 2022-06-21 14:33:29+00:00           True           True\n",
       "3 2022-06-21 14:33:30+00:00           True           True\n",
       "4 2022-06-21 14:33:31+00:00           True           True"
      ]
     },
     "execution_count": 11,
     "metadata": {},
     "output_type": "execute_result"
    }
   ],
   "source": [
    "data2 = pd.DataFrame()\n",
    "    \n",
    "data2['time'] = output['timestamp'].copy()\n",
    "data2['signal_group_1'] = data2['signal_group_2'] = [np.nan for i in range(len(output))]\n",
    "\n",
    "for i in range(0, len(data2['signal_group_1']), 20):\n",
    "    for u in range(5):\n",
    "        data2['signal_group_1'][i+u] = active_label\n",
    "\n",
    "for i in range(0, len(data2['signal_group_2']), 25):\n",
    "    for u in range(5):\n",
    "        data2['signal_group_2'][i+u] = active_label\n",
    "\n",
    "data2['signal_group_1'].replace(np.nan, 'False', inplace=True)\n",
    "data2['signal_group_2'].replace(np.nan, 'False', inplace=True)\n",
    "\n",
    "print(Counter(data2['signal_group_1']), Counter(data2['signal_group_2']))\n",
    "\n",
    "data2['signal_group_2'].iloc[48] = True\n",
    "data2.head() # id light 2"
   ]
  },
  {
   "cell_type": "code",
   "execution_count": 13,
   "id": "306ebe44",
   "metadata": {},
   "outputs": [],
   "source": [
    "# data.to_csv('light_id_3.csv', header=True, sep=',', index=False)\n",
    "# data2.to_csv('light_id_6.csv', header=True, sep=',', index=False)"
   ]
  },
  {
   "cell_type": "code",
   "execution_count": null,
   "id": "c0b371aa",
   "metadata": {},
   "outputs": [],
   "source": []
  },
  {
   "cell_type": "code",
   "execution_count": null,
   "id": "4b89c052",
   "metadata": {},
   "outputs": [],
   "source": []
  },
  {
   "cell_type": "code",
   "execution_count": null,
   "id": "0d1c3496",
   "metadata": {},
   "outputs": [],
   "source": []
  }
 ],
 "metadata": {
  "kernelspec": {
   "display_name": "Python 3 (ipykernel)",
   "language": "python",
   "name": "python3"
  },
  "language_info": {
   "codemirror_mode": {
    "name": "ipython",
    "version": 3
   },
   "file_extension": ".py",
   "mimetype": "text/x-python",
   "name": "python",
   "nbconvert_exporter": "python",
   "pygments_lexer": "ipython3",
   "version": "3.9.12"
  }
 },
 "nbformat": 4,
 "nbformat_minor": 5
}
